{
 "cells": [
  {
   "cell_type": "code",
   "execution_count": 1,
   "metadata": {
    "collapsed": true
   },
   "outputs": [],
   "source": [
    "x1 = 'SEND'\n",
    "x2 = 'MORE'\n",
    "answer = 'MONEY'"
   ]
  },
  {
   "cell_type": "code",
   "execution_count": 64,
   "metadata": {
    "collapsed": true
   },
   "outputs": [],
   "source": [
    "def tupleMaker(x1, x2, answer):\n",
    "    x1_chars = [i for i in x1]\n",
    "    x2_chars = [i for i in x2]\n",
    "    answer_chars = [i for i in answer]\n",
    "    set_chars = x1_chars + x2_chars + answer_chars\n",
    "    tupple_chars = tuple(set(set_chars))    \n",
    "    return tupple_chars"
   ]
  },
  {
   "cell_type": "code",
   "execution_count": 65,
   "metadata": {
    "collapsed": true
   },
   "outputs": [],
   "source": [
    "tuple_chars = tupleMaker(x1, x2, answer)"
   ]
  },
  {
   "cell_type": "code",
   "execution_count": 36,
   "metadata": {
    "collapsed": true
   },
   "outputs": [],
   "source": [
    "domain = [i for i in range(10)]"
   ]
  },
  {
   "cell_type": "code",
   "execution_count": 69,
   "metadata": {
    "collapsed": true
   },
   "outputs": [],
   "source": [
    "def checkIfCorrect(x1, x2, answer,dict_chars):\n",
    "    num1 = int(''.join([str(dict_chars[i]) for i in x1]))\n",
    "    num2 = int(''.join([str(dict_chars[i]) for i in x2]))\n",
    "    ans_int = int(''.join([str(dict_chars[i]) for i in answer]))\n",
    "    sum_ans = sum([num1, num2])\n",
    "    if ans_int == sum_ans:\n",
    "        return (True,num1,num2,sum_ans)\n",
    "    else:\n",
    "        return (False,num1,num2,sum_ans)"
   ]
  },
  {
   "cell_type": "code",
   "execution_count": 61,
   "metadata": {},
   "outputs": [
    {
     "data": {
      "text/plain": [
       "(True, 9567, 1085, 10652)"
      ]
     },
     "execution_count": 61,
     "metadata": {},
     "output_type": "execute_result"
    }
   ],
   "source": [
    "checkIfCorrect(x1,x2,{'R': 8, 'E': 5, 'S': 9, 'M': 1, 'N': 6, 'O': 0, 'D': 7, 'Y':2})"
   ]
  },
  {
   "cell_type": "code",
   "execution_count": 70,
   "metadata": {
    "collapsed": true
   },
   "outputs": [],
   "source": [
    "import itertools\n",
    "def solve(tuple_chars, domain, x1, x2, answer):\n",
    "    digits = range(10)\n",
    "    for perm in itertools.permutations(domain, len(tuple_chars)):\n",
    "        sol = dict(zip(tuple_chars, perm))\n",
    "        if sol[x1[0]] == 0 or sol[x2[0]] == 0:\n",
    "            continue\n",
    "        result = checkIfCorrect(x1,x2,answer,sol)\n",
    "        if result[0]:\n",
    "            return result[1], result[2], result[3]"
   ]
  },
  {
   "cell_type": "code",
   "execution_count": 71,
   "metadata": {},
   "outputs": [
    {
     "data": {
      "text/plain": [
       "(9567, 1085, 10652)"
      ]
     },
     "execution_count": 71,
     "metadata": {},
     "output_type": "execute_result"
    }
   ],
   "source": [
    "solve(tuple_chars, domain, x1, x2, answer)"
   ]
  },
  {
   "cell_type": "code",
   "execution_count": 73,
   "metadata": {},
   "outputs": [
    {
     "data": {
      "text/plain": [
       "(2461, 2455, 4916)"
      ]
     },
     "execution_count": 73,
     "metadata": {},
     "output_type": "execute_result"
    }
   ],
   "source": [
    "x1 = 'BASE'\n",
    "x2 = 'BALL'\n",
    "answer = 'GAMES'\n",
    "tuple_chars = tupleMaker(x1,x2,answer)\n",
    "solve(tuple_chars, domain, x1,x2,answer)"
   ]
  },
  {
   "cell_type": "code",
   "execution_count": 78,
   "metadata": {},
   "outputs": [
    {
     "data": {
      "text/plain": [
       "(96233, 62513, 158746)"
      ]
     },
     "execution_count": 78,
     "metadata": {},
     "output_type": "execute_result"
    }
   ],
   "source": [
    "x1 = 'CROSS'\n",
    "x2 = 'ROADS'\n",
    "answer = 'DANGER'\n",
    "tuple_chars = tupleMaker(x1,x2,answer)\n",
    "solve(tuple_chars, domain, x1,x2,answer)"
   ]
  },
  {
   "cell_type": "code",
   "execution_count": null,
   "metadata": {
    "collapsed": true
   },
   "outputs": [],
   "source": []
  }
 ],
 "metadata": {
  "kernelspec": {
   "display_name": "Python 3",
   "language": "python",
   "name": "python3"
  },
  "language_info": {
   "codemirror_mode": {
    "name": "ipython",
    "version": 3
   },
   "file_extension": ".py",
   "mimetype": "text/x-python",
   "name": "python",
   "nbconvert_exporter": "python",
   "pygments_lexer": "ipython3",
   "version": "3.6.3"
  }
 },
 "nbformat": 4,
 "nbformat_minor": 2
}
