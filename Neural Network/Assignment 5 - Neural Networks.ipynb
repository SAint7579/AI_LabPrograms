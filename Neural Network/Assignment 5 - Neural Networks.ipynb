{
 "cells": [
  {
   "cell_type": "markdown",
   "metadata": {},
   "source": [
    "## Neural Networks with Tensorflow and Esitmator API\n",
    "- Vishwa Mohan Singh\n",
    "- PC14\n",
    "- TY CSE - Panel C"
   ]
  },
  {
   "cell_type": "code",
   "execution_count": 4,
   "metadata": {
    "collapsed": true
   },
   "outputs": [],
   "source": [
    "import os\n",
    "#Setting the device to CPU\n",
    "os.environ['CUDA_VISIBLE_DEVICES'] = '-1'\n",
    "\n",
    "#Importing the libraries\n",
    "import tensorflow as tf\n",
    "import numpy as np\n",
    "import pandas as pd"
   ]
  },
  {
   "cell_type": "code",
   "execution_count": 5,
   "metadata": {},
   "outputs": [],
   "source": [
    "#Importing the dataset\n",
    "dataset = pd.read_csv('census_data.csv')"
   ]
  },
  {
   "cell_type": "code",
   "execution_count": 7,
   "metadata": {},
   "outputs": [],
   "source": [
    "#Extracting and processing the lables\n",
    "Y = dataset['income_bracket']\n",
    "Y = Y.apply(lambda x: 0 if x == \" <=50K\" else 1)\n",
    "#Getting the attributes\n",
    "X = dataset.drop('income_bracket',axis = 1)\n",
    "#Scaling the values [Min-Max scaling]\n",
    "to_scale = ['capital_gain',\n",
    "       'capital_loss', 'hours_per_week','education_num']\n",
    "X[to_scale] = X[to_scale].apply(lambda x : (x-x.min())/(x.max()-x.min()))"
   ]
  },
  {
   "cell_type": "code",
   "execution_count": 8,
   "metadata": {},
   "outputs": [
    {
     "data": {
      "text/html": [
       "<div>\n",
       "<style>\n",
       "    .dataframe thead tr:only-child th {\n",
       "        text-align: right;\n",
       "    }\n",
       "\n",
       "    .dataframe thead th {\n",
       "        text-align: left;\n",
       "    }\n",
       "\n",
       "    .dataframe tbody tr th {\n",
       "        vertical-align: top;\n",
       "    }\n",
       "</style>\n",
       "<table border=\"1\" class=\"dataframe\">\n",
       "  <thead>\n",
       "    <tr style=\"text-align: right;\">\n",
       "      <th></th>\n",
       "      <th>age</th>\n",
       "      <th>workclass</th>\n",
       "      <th>education</th>\n",
       "      <th>education_num</th>\n",
       "      <th>marital_status</th>\n",
       "      <th>occupation</th>\n",
       "      <th>relationship</th>\n",
       "      <th>race</th>\n",
       "      <th>gender</th>\n",
       "      <th>capital_gain</th>\n",
       "      <th>capital_loss</th>\n",
       "      <th>hours_per_week</th>\n",
       "      <th>native_country</th>\n",
       "    </tr>\n",
       "  </thead>\n",
       "  <tbody>\n",
       "    <tr>\n",
       "      <th>0</th>\n",
       "      <td>39</td>\n",
       "      <td>State-gov</td>\n",
       "      <td>Bachelors</td>\n",
       "      <td>0.800000</td>\n",
       "      <td>Never-married</td>\n",
       "      <td>Adm-clerical</td>\n",
       "      <td>Not-in-family</td>\n",
       "      <td>White</td>\n",
       "      <td>Male</td>\n",
       "      <td>0.02174</td>\n",
       "      <td>0.0</td>\n",
       "      <td>0.397959</td>\n",
       "      <td>United-States</td>\n",
       "    </tr>\n",
       "    <tr>\n",
       "      <th>1</th>\n",
       "      <td>50</td>\n",
       "      <td>Self-emp-not-inc</td>\n",
       "      <td>Bachelors</td>\n",
       "      <td>0.800000</td>\n",
       "      <td>Married-civ-spouse</td>\n",
       "      <td>Exec-managerial</td>\n",
       "      <td>Husband</td>\n",
       "      <td>White</td>\n",
       "      <td>Male</td>\n",
       "      <td>0.00000</td>\n",
       "      <td>0.0</td>\n",
       "      <td>0.122449</td>\n",
       "      <td>United-States</td>\n",
       "    </tr>\n",
       "    <tr>\n",
       "      <th>2</th>\n",
       "      <td>38</td>\n",
       "      <td>Private</td>\n",
       "      <td>HS-grad</td>\n",
       "      <td>0.533333</td>\n",
       "      <td>Divorced</td>\n",
       "      <td>Handlers-cleaners</td>\n",
       "      <td>Not-in-family</td>\n",
       "      <td>White</td>\n",
       "      <td>Male</td>\n",
       "      <td>0.00000</td>\n",
       "      <td>0.0</td>\n",
       "      <td>0.397959</td>\n",
       "      <td>United-States</td>\n",
       "    </tr>\n",
       "    <tr>\n",
       "      <th>3</th>\n",
       "      <td>53</td>\n",
       "      <td>Private</td>\n",
       "      <td>11th</td>\n",
       "      <td>0.400000</td>\n",
       "      <td>Married-civ-spouse</td>\n",
       "      <td>Handlers-cleaners</td>\n",
       "      <td>Husband</td>\n",
       "      <td>Black</td>\n",
       "      <td>Male</td>\n",
       "      <td>0.00000</td>\n",
       "      <td>0.0</td>\n",
       "      <td>0.397959</td>\n",
       "      <td>United-States</td>\n",
       "    </tr>\n",
       "    <tr>\n",
       "      <th>4</th>\n",
       "      <td>28</td>\n",
       "      <td>Private</td>\n",
       "      <td>Bachelors</td>\n",
       "      <td>0.800000</td>\n",
       "      <td>Married-civ-spouse</td>\n",
       "      <td>Prof-specialty</td>\n",
       "      <td>Wife</td>\n",
       "      <td>Black</td>\n",
       "      <td>Female</td>\n",
       "      <td>0.00000</td>\n",
       "      <td>0.0</td>\n",
       "      <td>0.397959</td>\n",
       "      <td>Cuba</td>\n",
       "    </tr>\n",
       "  </tbody>\n",
       "</table>\n",
       "</div>"
      ],
      "text/plain": [
       "   age          workclass   education  education_num       marital_status  \\\n",
       "0   39          State-gov   Bachelors       0.800000        Never-married   \n",
       "1   50   Self-emp-not-inc   Bachelors       0.800000   Married-civ-spouse   \n",
       "2   38            Private     HS-grad       0.533333             Divorced   \n",
       "3   53            Private        11th       0.400000   Married-civ-spouse   \n",
       "4   28            Private   Bachelors       0.800000   Married-civ-spouse   \n",
       "\n",
       "           occupation    relationship    race   gender  capital_gain  \\\n",
       "0        Adm-clerical   Not-in-family   White     Male       0.02174   \n",
       "1     Exec-managerial         Husband   White     Male       0.00000   \n",
       "2   Handlers-cleaners   Not-in-family   White     Male       0.00000   \n",
       "3   Handlers-cleaners         Husband   Black     Male       0.00000   \n",
       "4      Prof-specialty            Wife   Black   Female       0.00000   \n",
       "\n",
       "   capital_loss  hours_per_week  native_country  \n",
       "0           0.0        0.397959   United-States  \n",
       "1           0.0        0.122449   United-States  \n",
       "2           0.0        0.397959   United-States  \n",
       "3           0.0        0.397959   United-States  \n",
       "4           0.0        0.397959            Cuba  "
      ]
     },
     "execution_count": 8,
     "metadata": {},
     "output_type": "execute_result"
    }
   ],
   "source": [
    "X.head()"
   ]
  },
  {
   "cell_type": "code",
   "execution_count": 9,
   "metadata": {
    "collapsed": true
   },
   "outputs": [],
   "source": [
    "#Feature columns for categorical data\n",
    "workc = tf.feature_column.embedding_column(tf.feature_column.categorical_column_with_hash_bucket('workclass',hash_bucket_size=10), dimension=9)\n",
    "educ = tf.feature_column.embedding_column((tf.feature_column.categorical_column_with_hash_bucket('education',hash_bucket_size=10)),dimension=16)\n",
    "marital = tf.feature_column.embedding_column(tf.feature_column.categorical_column_with_hash_bucket('marital_status',hash_bucket_size=10),dimension=7)\n",
    "race = tf.feature_column.embedding_column(tf.feature_column.categorical_column_with_hash_bucket('race',hash_bucket_size=10),dimension=5)\n",
    "gender = tf.feature_column.embedding_column(tf.feature_column.categorical_column_with_hash_bucket('gender',hash_bucket_size=2),dimension=2)\n",
    "country = tf.feature_column.embedding_column(tf.feature_column.categorical_column_with_hash_bucket('native_country',hash_bucket_size=50),dimension=42)"
   ]
  },
  {
   "cell_type": "code",
   "execution_count": 10,
   "metadata": {
    "collapsed": true
   },
   "outputs": [],
   "source": [
    "import matplotlib.pyplot as plt\n",
    "%matplotlib inline"
   ]
  },
  {
   "cell_type": "code",
   "execution_count": 11,
   "metadata": {},
   "outputs": [
    {
     "data": {
      "text/plain": [
       "array([[<matplotlib.axes._subplots.AxesSubplot object at 0x000001ADB86E55F8>]], dtype=object)"
      ]
     },
     "execution_count": 11,
     "metadata": {},
     "output_type": "execute_result"
    },
    {
     "data": {
      "image/png": "[encoded data removed]",
      "text/plain": [
       "<Figure size 432x288 with 1 Axes>"
      ]
     },
     "metadata": {},
     "output_type": "display_data"
    }
   ],
   "source": [
    "dataset.hist(column='age')"
   ]
  },
  {
   "cell_type": "code",
   "execution_count": 12,
   "metadata": {
    "collapsed": true
   },
   "outputs": [],
   "source": [
    "#Bins for age to convert them to categorical data\n",
    "age = tf.feature_column.bucketized_column(tf.feature_column.numeric_column('age'),boundaries=[20,30,40,50,60,70,80,90])"
   ]
  },
  {
   "cell_type": "code",
   "execution_count": 13,
   "metadata": {
    "collapsed": true
   },
   "outputs": [],
   "source": [
    "#making numeric columns\n",
    "cap_gain = tf.feature_column.numeric_column('capital_gain')\n",
    "cap_loss = tf.feature_column.numeric_column('capital_loss')\n",
    "hrs = tf.feature_column.numeric_column('hours_per_week')\n",
    "edu_num = tf.feature_column.numeric_column('education_num')"
   ]
  },
  {
   "cell_type": "code",
   "execution_count": 14,
   "metadata": {
    "collapsed": true
   },
   "outputs": [],
   "source": [
    "fea_col = [cap_gain,cap_loss,hrs,age,workc,educ,marital,race,gender,country,edu_num]"
   ]
  },
  {
   "cell_type": "code",
   "execution_count": 16,
   "metadata": {
    "collapsed": true
   },
   "outputs": [],
   "source": [
    "#Creating the training and testing dataset\n",
    "from sklearn.model_selection import train_test_split\n",
    "X_train,X_test,Y_train,Y_test = train_test_split(X,Y,test_size=0.3,random_state = 101)"
   ]
  },
  {
   "cell_type": "code",
   "execution_count": 17,
   "metadata": {},
   "outputs": [
    {
     "name": "stdout",
     "output_type": "stream",
     "text": [
      "INFO:tensorflow:Using default config.\n",
      "WARNING:tensorflow:Using temporary folder as model directory: C:\\Users\\Admin\\AppData\\Local\\Temp\\tmpce14_sz7\n",
      "INFO:tensorflow:Using config: {'_model_dir': 'C:\\\\Users\\\\Admin\\\\AppData\\\\Local\\\\Temp\\\\tmpce14_sz7', '_tf_random_seed': None, '_save_summary_steps': 100, '_save_checkpoints_steps': None, '_save_checkpoints_secs': 600, '_session_config': allow_soft_placement: true\n",
      "graph_options {\n",
      "  rewrite_options {\n",
      "    meta_optimizer_iterations: ONE\n",
      "  }\n",
      "}\n",
      ", '_keep_checkpoint_max': 5, '_keep_checkpoint_every_n_hours': 10000, '_log_step_count_steps': 100, '_train_distribute': None, '_device_fn': None, '_protocol': None, '_eval_distribute': None, '_experimental_distribute': None, '_service': None, '_cluster_spec': <tensorflow.python.training.server_lib.ClusterSpec object at 0x000001ADB95BB160>, '_task_type': 'worker', '_task_id': 0, '_global_id_in_cluster': 0, '_master': '', '_evaluation_master': '', '_is_chief': True, '_num_ps_replicas': 0, '_num_worker_replicas': 1}\n"
     ]
    }
   ],
   "source": [
    "#Getting the neural network model from estimator API\n",
    "model = tf.estimator.DNNClassifier(hidden_units=[10,10,10,10],feature_columns=fea_col)"
   ]
  },
  {
   "cell_type": "code",
   "execution_count": 18,
   "metadata": {
    "collapsed": true
   },
   "outputs": [],
   "source": [
    "#Setting the input to the estimator API\n",
    "input_f = tf.estimator.inputs.pandas_input_fn(x=X_train,y=Y_train,shuffle=True,batch_size=10,num_epochs=100)"
   ]
  },
  {
   "cell_type": "code",
   "execution_count": 19,
   "metadata": {
    "scrolled": true
   },
   "outputs": [
    {
     "name": "stdout",
     "output_type": "stream",
     "text": [
      "WARNING:tensorflow:From C:\\Users\\Admin\\Anaconda3\\lib\\site-packages\\tensorflow\\python\\estimator\\inputs\\queues\\feeding_queue_runner.py:62: QueueRunner.__init__ (from tensorflow.python.training.queue_runner_impl) is deprecated and will be removed in a future version.\n",
      "Instructions for updating:\n",
      "To construct input pipelines, use the `tf.data` module.\n",
      "WARNING:tensorflow:From C:\\Users\\Admin\\Anaconda3\\lib\\site-packages\\tensorflow\\python\\estimator\\inputs\\queues\\feeding_functions.py:500: add_queue_runner (from tensorflow.python.training.queue_runner_impl) is deprecated and will be removed in a future version.\n",
      "Instructions for updating:\n",
      "To construct input pipelines, use the `tf.data` module.\n",
      "INFO:tensorflow:Calling model_fn.\n",
      "INFO:tensorflow:Done calling model_fn.\n",
      "INFO:tensorflow:Create CheckpointSaverHook.\n",
      "INFO:tensorflow:Graph was finalized.\n",
      "INFO:tensorflow:Running local_init_op.\n",
      "INFO:tensorflow:Done running local_init_op.\n",
      "WARNING:tensorflow:From C:\\Users\\Admin\\Anaconda3\\lib\\site-packages\\tensorflow\\python\\training\\monitored_session.py:804: start_queue_runners (from tensorflow.python.training.queue_runner_impl) is deprecated and will be removed in a future version.\n",
      "Instructions for updating:\n",
      "To construct input pipelines, use the `tf.data` module.\n",
      "INFO:tensorflow:Saving checkpoints for 0 into C:\\Users\\Admin\\AppData\\Local\\Temp\\tmpce14_sz7\\model.ckpt.\n",
      "INFO:tensorflow:loss = 8.53262, step = 1\n",
      "INFO:tensorflow:global_step/sec: 160.181\n",
      "INFO:tensorflow:loss = 4.29007, step = 101 (0.615 sec)\n",
      "INFO:tensorflow:global_step/sec: 343.383\n",
      "INFO:tensorflow:loss = 2.73161, step = 201 (0.286 sec)\n",
      "INFO:tensorflow:global_step/sec: 359.381\n",
      "INFO:tensorflow:loss = 3.47477, step = 301 (0.282 sec)\n",
      "INFO:tensorflow:global_step/sec: 354.303\n",
      "INFO:tensorflow:loss = 5.6736, step = 401 (0.281 sec)\n",
      "INFO:tensorflow:global_step/sec: 346.946\n",
      "INFO:tensorflow:loss = 4.38308, step = 501 (0.289 sec)\n",
      "INFO:tensorflow:global_step/sec: 346.948\n",
      "INFO:tensorflow:loss = 1.74586, step = 601 (0.285 sec)\n",
      "INFO:tensorflow:global_step/sec: 382.701\n",
      "INFO:tensorflow:loss = 3.66911, step = 701 (0.262 sec)\n",
      "INFO:tensorflow:global_step/sec: 319.322\n",
      "INFO:tensorflow:loss = 3.91412, step = 801 (0.316 sec)\n",
      "INFO:tensorflow:global_step/sec: 257.757\n",
      "INFO:tensorflow:loss = 3.15771, step = 901 (0.389 sec)\n",
      "INFO:tensorflow:global_step/sec: 332.013\n",
      "INFO:tensorflow:loss = 5.95412, step = 1001 (0.294 sec)\n",
      "INFO:tensorflow:global_step/sec: 266.668\n",
      "INFO:tensorflow:loss = 3.86941, step = 1101 (0.386 sec)\n",
      "INFO:tensorflow:global_step/sec: 280.862\n",
      "INFO:tensorflow:loss = 5.24526, step = 1201 (0.357 sec)\n",
      "INFO:tensorflow:global_step/sec: 306.629\n",
      "INFO:tensorflow:loss = 5.97636, step = 1301 (0.319 sec)\n",
      "INFO:tensorflow:global_step/sec: 312.359\n",
      "INFO:tensorflow:loss = 2.05181, step = 1401 (0.317 sec)\n",
      "INFO:tensorflow:global_step/sec: 338.742\n",
      "INFO:tensorflow:loss = 3.05209, step = 1501 (0.297 sec)\n",
      "INFO:tensorflow:global_step/sec: 304.765\n",
      "INFO:tensorflow:loss = 4.16647, step = 1601 (0.327 sec)\n",
      "INFO:tensorflow:global_step/sec: 317.304\n",
      "INFO:tensorflow:loss = 1.98801, step = 1701 (0.317 sec)\n",
      "INFO:tensorflow:global_step/sec: 312.359\n",
      "INFO:tensorflow:loss = 7.68637, step = 1801 (0.324 sec)\n",
      "INFO:tensorflow:global_step/sec: 349.364\n",
      "INFO:tensorflow:loss = 4.51116, step = 1901 (0.282 sec)\n",
      "INFO:tensorflow:global_step/sec: 326.602\n",
      "INFO:tensorflow:loss = 2.82699, step = 2001 (0.303 sec)\n",
      "INFO:tensorflow:global_step/sec: 344.564\n",
      "INFO:tensorflow:loss = 8.365, step = 2101 (0.292 sec)\n",
      "INFO:tensorflow:global_step/sec: 344.563\n",
      "INFO:tensorflow:loss = 2.78288, step = 2201 (0.288 sec)\n",
      "INFO:tensorflow:global_step/sec: 334.225\n",
      "INFO:tensorflow:loss = 0.478055, step = 2301 (0.301 sec)\n",
      "INFO:tensorflow:global_step/sec: 319.324\n",
      "INFO:tensorflow:loss = 3.93671, step = 2401 (0.312 sec)\n",
      "INFO:tensorflow:global_step/sec: 303.84\n",
      "INFO:tensorflow:loss = 3.25211, step = 2501 (0.331 sec)\n",
      "INFO:tensorflow:global_step/sec: 329.828\n",
      "INFO:tensorflow:loss = 3.39924, step = 2601 (0.301 sec)\n",
      "INFO:tensorflow:global_step/sec: 320.344\n",
      "INFO:tensorflow:loss = 1.22489, step = 2701 (0.313 sec)\n",
      "INFO:tensorflow:global_step/sec: 338.741\n",
      "INFO:tensorflow:loss = 4.31571, step = 2801 (0.294 sec)\n",
      "INFO:tensorflow:global_step/sec: 324.492\n",
      "INFO:tensorflow:loss = 1.51003, step = 2901 (0.311 sec)\n",
      "INFO:tensorflow:global_step/sec: 276.98\n",
      "INFO:tensorflow:loss = 2.45193, step = 3001 (0.359 sec)\n",
      "INFO:tensorflow:global_step/sec: 276.22\n",
      "INFO:tensorflow:loss = 1.71806, step = 3101 (0.365 sec)\n",
      "INFO:tensorflow:global_step/sec: 269.537\n",
      "INFO:tensorflow:loss = 7.94139, step = 3201 (0.373 sec)\n",
      "INFO:tensorflow:global_step/sec: 218.925\n",
      "INFO:tensorflow:loss = 3.1574, step = 3301 (0.454 sec)\n",
      "INFO:tensorflow:global_step/sec: 276.981\n",
      "INFO:tensorflow:loss = 3.17842, step = 3401 (0.358 sec)\n",
      "INFO:tensorflow:global_step/sec: 235.371\n",
      "INFO:tensorflow:loss = 2.23129, step = 3501 (0.425 sec)\n",
      "INFO:tensorflow:global_step/sec: 260.435\n",
      "INFO:tensorflow:loss = 4.19809, step = 3601 (0.383 sec)\n",
      "INFO:tensorflow:global_step/sec: 255.134\n",
      "INFO:tensorflow:loss = 3.01932, step = 3701 (0.397 sec)\n",
      "INFO:tensorflow:global_step/sec: 256.439\n",
      "INFO:tensorflow:loss = 7.35193, step = 3801 (0.389 sec)\n",
      "INFO:tensorflow:global_step/sec: 265.962\n",
      "INFO:tensorflow:loss = 3.58201, step = 3901 (0.373 sec)\n",
      "INFO:tensorflow:global_step/sec: 294.905\n",
      "INFO:tensorflow:loss = 6.82263, step = 4001 (0.339 sec)\n",
      "INFO:tensorflow:global_step/sec: 321.37\n",
      "INFO:tensorflow:loss = 1.63588, step = 4101 (0.310 sec)\n",
      "INFO:tensorflow:global_step/sec: 329.827\n",
      "INFO:tensorflow:loss = 2.92255, step = 4201 (0.304 sec)\n",
      "INFO:tensorflow:global_step/sec: 259.089\n",
      "INFO:tensorflow:loss = 4.2502, step = 4301 (0.392 sec)\n",
      "INFO:tensorflow:global_step/sec: 250.668\n",
      "INFO:tensorflow:loss = 5.35573, step = 4401 (0.398 sec)\n",
      "INFO:tensorflow:global_step/sec: 294.905\n",
      "INFO:tensorflow:loss = 3.25385, step = 4501 (0.337 sec)\n",
      "INFO:tensorflow:global_step/sec: 310.425\n",
      "INFO:tensorflow:loss = 3.42013, step = 4601 (0.326 sec)\n",
      "INFO:tensorflow:global_step/sec: 330.916\n",
      "INFO:tensorflow:loss = 2.05615, step = 4701 (0.296 sec)\n",
      "INFO:tensorflow:global_step/sec: 326.605\n",
      "INFO:tensorflow:loss = 0.973405, step = 4801 (0.307 sec)\n",
      "INFO:tensorflow:global_step/sec: 330.902\n",
      "INFO:tensorflow:loss = 12.1105, step = 4901 (0.301 sec)\n",
      "INFO:tensorflow:global_step/sec: 350.601\n",
      "INFO:tensorflow:loss = 4.46517, step = 5001 (0.285 sec)\n",
      "INFO:tensorflow:global_step/sec: 295.775\n",
      "INFO:tensorflow:loss = 3.87551, step = 5101 (0.338 sec)\n",
      "INFO:tensorflow:global_step/sec: 339.889\n",
      "INFO:tensorflow:loss = 2.00869, step = 5201 (0.293 sec)\n",
      "INFO:tensorflow:global_step/sec: 338.741\n",
      "INFO:tensorflow:loss = 1.11158, step = 5301 (0.294 sec)\n",
      "INFO:tensorflow:global_step/sec: 334.225\n",
      "INFO:tensorflow:loss = 5.93775, step = 5401 (0.301 sec)\n",
      "INFO:tensorflow:global_step/sec: 356.825\n",
      "INFO:tensorflow:loss = 0.985607, step = 5501 (0.282 sec)\n",
      "INFO:tensorflow:global_step/sec: 350.585\n",
      "INFO:tensorflow:loss = 4.31164, step = 5601 (0.282 sec)\n",
      "INFO:tensorflow:global_step/sec: 345.752\n",
      "INFO:tensorflow:loss = 2.95078, step = 5701 (0.292 sec)\n",
      "INFO:tensorflow:global_step/sec: 336.468\n",
      "INFO:tensorflow:loss = 6.2407, step = 5801 (0.295 sec)\n",
      "INFO:tensorflow:global_step/sec: 353.054\n",
      "INFO:tensorflow:loss = 4.24052, step = 5901 (0.282 sec)\n",
      "INFO:tensorflow:global_step/sec: 325.544\n",
      "INFO:tensorflow:loss = 2.69573, step = 6001 (0.309 sec)\n",
      "INFO:tensorflow:global_step/sec: 343.38\n",
      "INFO:tensorflow:loss = 3.97932, step = 6101 (0.289 sec)\n",
      "INFO:tensorflow:global_step/sec: 355.561\n",
      "INFO:tensorflow:loss = 2.01122, step = 6201 (0.281 sec)\n",
      "INFO:tensorflow:global_step/sec: 316.303\n",
      "INFO:tensorflow:loss = 5.69817, step = 6301 (0.316 sec)\n",
      "INFO:tensorflow:global_step/sec: 338.74\n",
      "INFO:tensorflow:loss = 4.19054, step = 6401 (0.298 sec)\n",
      "INFO:tensorflow:global_step/sec: 336.469\n",
      "INFO:tensorflow:loss = 0.545308, step = 6501 (0.294 sec)\n",
      "INFO:tensorflow:global_step/sec: 330.916\n",
      "INFO:tensorflow:loss = 2.76904, step = 6601 (0.302 sec)\n",
      "INFO:tensorflow:global_step/sec: 312.36\n",
      "INFO:tensorflow:loss = 3.46968, step = 6701 (0.323 sec)\n",
      "INFO:tensorflow:global_step/sec: 294.905\n",
      "INFO:tensorflow:loss = 1.68897, step = 6801 (0.343 sec)\n",
      "INFO:tensorflow:global_step/sec: 329.827\n",
      "INFO:tensorflow:loss = 5.17578, step = 6901 (0.295 sec)\n",
      "INFO:tensorflow:global_step/sec: 341.045\n",
      "INFO:tensorflow:loss = 4.99537, step = 7001 (0.296 sec)\n",
      "INFO:tensorflow:global_step/sec: 307.57\n"
     ]
    },
    {
     "name": "stdout",
     "output_type": "stream",
     "text": [
      "INFO:tensorflow:loss = 2.12954, step = 7101 (0.325 sec)\n",
      "INFO:tensorflow:global_step/sec: 293.18\n",
      "INFO:tensorflow:loss = 2.84257, step = 7201 (0.338 sec)\n",
      "INFO:tensorflow:global_step/sec: 338.741\n",
      "INFO:tensorflow:loss = 5.37407, step = 7301 (0.297 sec)\n",
      "INFO:tensorflow:global_step/sec: 321.371\n",
      "INFO:tensorflow:loss = 6.91366, step = 7401 (0.315 sec)\n",
      "INFO:tensorflow:global_step/sec: 323.443\n",
      "INFO:tensorflow:loss = 3.87554, step = 7501 (0.306 sec)\n",
      "INFO:tensorflow:global_step/sec: 306.63\n",
      "INFO:tensorflow:loss = 1.02679, step = 7601 (0.329 sec)\n",
      "INFO:tensorflow:global_step/sec: 292.323\n",
      "INFO:tensorflow:loss = 2.81241, step = 7701 (0.341 sec)\n",
      "INFO:tensorflow:global_step/sec: 313.338\n",
      "INFO:tensorflow:loss = 5.23501, step = 7801 (0.317 sec)\n",
      "INFO:tensorflow:global_step/sec: 315.307\n",
      "INFO:tensorflow:loss = 3.6332, step = 7901 (0.323 sec)\n",
      "INFO:tensorflow:global_step/sec: 324.489\n",
      "INFO:tensorflow:loss = 2.37969, step = 8001 (0.300 sec)\n",
      "INFO:tensorflow:global_step/sec: 302.011\n",
      "INFO:tensorflow:loss = 6.61446, step = 8101 (0.333 sec)\n",
      "INFO:tensorflow:global_step/sec: 338.741\n",
      "INFO:tensorflow:loss = 4.60992, step = 8201 (0.295 sec)\n",
      "INFO:tensorflow:global_step/sec: 339.891\n",
      "INFO:tensorflow:loss = 2.24293, step = 8301 (0.292 sec)\n",
      "INFO:tensorflow:global_step/sec: 349.365\n",
      "INFO:tensorflow:loss = 3.3023, step = 8401 (0.290 sec)\n",
      "INFO:tensorflow:global_step/sec: 332.011\n",
      "INFO:tensorflow:loss = 5.43194, step = 8501 (0.295 sec)\n",
      "INFO:tensorflow:global_step/sec: 356.826\n",
      "INFO:tensorflow:loss = 3.00852, step = 8601 (0.282 sec)\n",
      "INFO:tensorflow:global_step/sec: 330.914\n",
      "INFO:tensorflow:loss = 3.20702, step = 8701 (0.302 sec)\n",
      "INFO:tensorflow:global_step/sec: 339.889\n",
      "INFO:tensorflow:loss = 1.61104, step = 8801 (0.294 sec)\n",
      "INFO:tensorflow:global_step/sec: 332.014\n",
      "INFO:tensorflow:loss = 4.73709, step = 8901 (0.302 sec)\n",
      "INFO:tensorflow:global_step/sec: 328.744\n",
      "INFO:tensorflow:loss = 3.95258, step = 9001 (0.309 sec)\n",
      "INFO:tensorflow:global_step/sec: 296.651\n",
      "INFO:tensorflow:loss = 2.01832, step = 9101 (0.330 sec)\n",
      "INFO:tensorflow:global_step/sec: 359.383\n",
      "INFO:tensorflow:loss = 4.1669, step = 9201 (0.280 sec)\n",
      "INFO:tensorflow:global_step/sec: 351.814\n",
      "INFO:tensorflow:loss = 1.68045, step = 9301 (0.284 sec)\n",
      "INFO:tensorflow:global_step/sec: 348.152\n",
      "INFO:tensorflow:loss = 3.64466, step = 9401 (0.288 sec)\n",
      "INFO:tensorflow:global_step/sec: 348.151\n",
      "INFO:tensorflow:loss = 5.78294, step = 9501 (0.287 sec)\n",
      "INFO:tensorflow:global_step/sec: 346.948\n",
      "INFO:tensorflow:loss = 3.62701, step = 9601 (0.286 sec)\n",
      "INFO:tensorflow:global_step/sec: 348.15\n",
      "INFO:tensorflow:loss = 2.58224, step = 9701 (0.293 sec)\n",
      "INFO:tensorflow:global_step/sec: 342.211\n",
      "INFO:tensorflow:loss = 1.02903, step = 9801 (0.287 sec)\n",
      "INFO:tensorflow:global_step/sec: 351.815\n",
      "INFO:tensorflow:loss = 2.42065, step = 9901 (0.285 sec)\n",
      "INFO:tensorflow:Saving checkpoints for 10000 into C:\\Users\\Admin\\AppData\\Local\\Temp\\tmpce14_sz7\\model.ckpt.\n",
      "INFO:tensorflow:Loss for final step: 2.39228.\n"
     ]
    },
    {
     "data": {
      "text/plain": [
       "<tensorflow.python.estimator.canned.dnn.DNNClassifier at 0x1adb887e0b8>"
      ]
     },
     "execution_count": 19,
     "metadata": {},
     "output_type": "execute_result"
    }
   ],
   "source": [
    "#Training the model\n",
    "model.train(input_fn=input_f,steps=10000)"
   ]
  },
  {
   "cell_type": "code",
   "execution_count": 20,
   "metadata": {
    "scrolled": true
   },
   "outputs": [
    {
     "name": "stdout",
     "output_type": "stream",
     "text": [
      "INFO:tensorflow:Calling model_fn.\n",
      "INFO:tensorflow:Done calling model_fn.\n",
      "INFO:tensorflow:Graph was finalized.\n",
      "INFO:tensorflow:Restoring parameters from C:\\Users\\Admin\\AppData\\Local\\Temp\\tmpce14_sz7\\model.ckpt-10000\n",
      "INFO:tensorflow:Running local_init_op.\n",
      "INFO:tensorflow:Done running local_init_op.\n"
     ]
    }
   ],
   "source": [
    "#Getting the predictions on the test set\n",
    "pre_input_f = tf.estimator.inputs.pandas_input_fn(x=X_test,y=Y_test,shuffle=False)\n",
    "predictions = []\n",
    "for pred in list(model.predict(pre_input_f)):\n",
    "    predictions.append(pred['class_ids'])"
   ]
  },
  {
   "cell_type": "code",
   "execution_count": 21,
   "metadata": {
    "scrolled": true
   },
   "outputs": [
    {
     "name": "stdout",
     "output_type": "stream",
     "text": [
      "INFO:tensorflow:Calling model_fn.\n",
      "WARNING:tensorflow:Trapezoidal rule is known to produce incorrect PR-AUCs; please switch to \"careful_interpolation\" instead.\n",
      "WARNING:tensorflow:Trapezoidal rule is known to produce incorrect PR-AUCs; please switch to \"careful_interpolation\" instead.\n",
      "INFO:tensorflow:Done calling model_fn.\n",
      "INFO:tensorflow:Starting evaluation at 2020-05-14-20:58:16\n",
      "INFO:tensorflow:Graph was finalized.\n",
      "INFO:tensorflow:Restoring parameters from C:\\Users\\Admin\\AppData\\Local\\Temp\\tmpce14_sz7\\model.ckpt-10000\n",
      "INFO:tensorflow:Running local_init_op.\n",
      "INFO:tensorflow:Done running local_init_op.\n",
      "INFO:tensorflow:Finished evaluation at 2020-05-14-20:58:18\n",
      "INFO:tensorflow:Saving dict for global step 10000: accuracy = 0.853004, accuracy_baseline = 0.761183, auc = 0.902843, auc_precision_recall = 0.760447, average_loss = 0.324059, global_step = 10000, label/mean = 0.238817, loss = 41.1135, precision = 0.757611, prediction/mean = 0.231886, recall = 0.565367\n",
      "INFO:tensorflow:Saving 'checkpoint_path' summary for global step 10000: C:\\Users\\Admin\\AppData\\Local\\Temp\\tmpce14_sz7\\model.ckpt-10000\n",
      "{'accuracy': 0.8530044, 'accuracy_baseline': 0.76118332, 'auc': 0.902843, 'auc_precision_recall': 0.76044744, 'average_loss': 0.3240594, 'label/mean': 0.23881666, 'loss': 41.113461, 'precision': 0.75761056, 'prediction/mean': 0.23188584, 'recall': 0.56536651, 'global_step': 10000}\n"
     ]
    }
   ],
   "source": [
    "#Displaying the evaluation result\n",
    "print(model.evaluate(input_fn=pre_input_f,steps=1000))"
   ]
  }
 ],
 "metadata": {
  "kernelspec": {
   "display_name": "Python 3",
   "language": "python",
   "name": "python3"
  },
  "language_info": {
   "codemirror_mode": {
    "name": "ipython",
    "version": 3
   },
   "file_extension": ".py",
   "mimetype": "text/x-python",
   "name": "python",
   "nbconvert_exporter": "python",
   "pygments_lexer": "ipython3",
   "version": "3.6.3"
  }
 },
 "nbformat": 4,
 "nbformat_minor": 2
}
